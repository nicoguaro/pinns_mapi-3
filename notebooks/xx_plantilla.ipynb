{
 "cells": [
  {
   "cell_type": "markdown",
   "metadata": {},
   "source": [
    "Contenido bajo licencia **Licencia para el contenido** y código bajo licencia **Licencia para el código**. © **Autor(es)** 2024."
   ]
  },
  {
   "cell_type": "markdown",
   "metadata": {},
   "source": [
    "# Título"
   ]
  },
  {
   "cell_type": "markdown",
   "metadata": {},
   "source": [
    "Descripción global de la lección y del contenido del notebook.\n",
    "\n",
    "\n",
    "**Al completar este notebook usted debería estar en la capacidad de:**\n",
    "\n",
    "* Objetivo 1.\n",
    "\n",
    "* Objetivo 2.\n",
    "\n",
    "* Objetivo 3."
   ]
  },
  {
   "cell_type": "markdown",
   "metadata": {},
   "source": [
    "## Título sección"
   ]
  },
  {
   "cell_type": "markdown",
   "metadata": {},
   "source": [
    "Contenido de la sección.\n",
    "\n",
    "Se puede usar una [etiqueta HTML <div>](https://www.w3schools.com/Tags/tag_div.asp) y asignarla a la clase\n",
    "\"alert alert-warning\" para obtener una nota\n",
    "que resalte. De la siguiente manera.\n",
    "\n",
    "    \n",
    "```html\n",
    "<div class=\"alert alert-warning\">\n",
    "\n",
    "Contenido.\n",
    "\n",
    "</div>\n",
    "```\n",
    "\n",
    "<div class=\"alert alert-warning\">\n",
    "    \n",
    "Este es el resultado.\n",
    "\n",
    "</div>\n"
   ]
  },
  {
   "cell_type": "markdown",
   "metadata": {},
   "source": [
    "Existen [varias opciones para esta etiqueta](https://www.w3schools.com/bootstrap/bootstrap_alerts.asp).\n",
    "\n",
    "A continuación se muestra su uso común en internet:\n",
    "\n",
    "```html\n",
    "<div class=\"alert alert-success\">\n",
    "  <strong>¡Éxito!</strong> Indica una acción exitosa o positiva.\n",
    "</div>\n",
    "\n",
    "<div class=\"alert alert-info\">\n",
    "  <strong>¡Información!</strong> Indica un cambio o acción neutral.\n",
    "</div>\n",
    "\n",
    "<div class=\"alert alert-warning\">\n",
    "  <strong>¡Aviso!</strong> Indica un aviso que puede requerir atención.\n",
    "</div>\n",
    "\n",
    "<div class=\"alert alert-danger\">\n",
    "  <strong>¡Peligro!</strong> Indica una acción peligrosa o potencialmente negativa.\n",
    "</div>\n",
    "```\n",
    "\n",
    "Este es el resultado:\n",
    "\n",
    "<div class=\"alert alert-success\">\n",
    "  <strong>¡Éxito!</strong> Indica una acción exitosa o positiva.\n",
    "</div>\n",
    "\n",
    "<div class=\"alert alert-info\">\n",
    "  <strong>¡Información!</strong> Indica un cambio o acción neutral.\n",
    "</div>\n",
    "\n",
    "<div class=\"alert alert-warning\">\n",
    "  <strong>¡Aviso!</strong> Indica un aviso que puede requerir atención.\n",
    "</div>\n",
    "\n",
    "<div class=\"alert alert-danger\">\n",
    "  <strong>¡Peligro!</strong> Indica una acción peligrosa o potencialmente negativa.\n",
    "</div>"
   ]
  },
  {
   "cell_type": "markdown",
   "metadata": {},
   "source": [
    "Si queremos un recuadro con colores personalizados podemos usar el siguiente\n",
    "bloque de código\n",
    "\n",
    "```html\n",
    "<div class=\"alert alert-info\"\n",
    "    style=\"color:#3c3c3c;background-color:#fd9df5;border-color:#9d6097\">\n",
    "  <strong>¡Aviso!</strong> Este es un bloque con colores personalizados.\n",
    "</div>\n",
    "```\n",
    "\n",
    "\n",
    "<div class=\"alert alert-info\"\n",
    "    style=\"color:#3c3c3c;background-color:#fd9df5;border-color:#9d6097\">\n",
    "  <strong>¡Aviso!</strong> Este es un bloque con colores personalizados.\n",
    "</div>\n"
   ]
  },
  {
   "cell_type": "code",
   "execution_count": 4,
   "metadata": {},
   "outputs": [
    {
     "data": {
      "text/plain": [
       "2"
      ]
     },
     "execution_count": 4,
     "metadata": {},
     "output_type": "execute_result"
    }
   ],
   "source": [
    "# Código\n",
    "1 + 1"
   ]
  },
  {
   "cell_type": "markdown",
   "metadata": {},
   "source": [
    "## Actividad para la clase"
   ]
  },
  {
   "cell_type": "markdown",
   "metadata": {},
   "source": [
    "Descripción actividad clase."
   ]
  },
  {
   "cell_type": "markdown",
   "metadata": {},
   "source": [
    "## Glosario de términos"
   ]
  },
  {
   "cell_type": "markdown",
   "metadata": {},
   "source": [
    "- **Término 1:** Definición 1.\n",
    "\n",
    "- **Término 2:** Definición 2.\n"
   ]
  },
  {
   "cell_type": "markdown",
   "metadata": {},
   "source": [
    "## Referencias"
   ]
  },
  {
   "cell_type": "markdown",
   "metadata": {},
   "source": [
    "1. Referencia bibliográfica 1.\n",
    "\n",
    "2. Referencia bibliográfica 2."
   ]
  }
 ],
 "metadata": {
  "kernelspec": {
   "display_name": "Python 3 (ipykernel)",
   "language": "python",
   "name": "python3"
  },
  "language_info": {
   "codemirror_mode": {
    "name": "ipython",
    "version": 3
   },
   "file_extension": ".py",
   "mimetype": "text/x-python",
   "name": "python",
   "nbconvert_exporter": "python",
   "pygments_lexer": "ipython3",
   "version": "3.11.5"
  },
  "varInspector": {
   "cols": {
    "lenName": 16,
    "lenType": 16,
    "lenVar": 40
   },
   "kernels_config": {
    "python": {
     "delete_cmd_postfix": "",
     "delete_cmd_prefix": "del ",
     "library": "var_list.py",
     "varRefreshCmd": "print(var_dic_list())"
    },
    "r": {
     "delete_cmd_postfix": ") ",
     "delete_cmd_prefix": "rm(",
     "library": "var_list.r",
     "varRefreshCmd": "cat(var_dic_list()) "
    }
   },
   "types_to_exclude": [
    "module",
    "function",
    "builtin_function_or_method",
    "instance",
    "_Feature"
   ],
   "window_display": false
  }
 },
 "nbformat": 4,
 "nbformat_minor": 4
}
